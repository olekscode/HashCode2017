{
 "cells": [
  {
   "cell_type": "code",
   "execution_count": 1,
   "metadata": {
    "collapsed": true
   },
   "outputs": [],
   "source": [
    "%matplotlib inline\n",
    "import numpy as np\n",
    "import pandas as pd\n",
    "import matplotlib.pyplot as plt\n",
    "import seaborn as sns"
   ]
  },
  {
   "cell_type": "code",
   "execution_count": 16,
   "metadata": {
    "collapsed": false
   },
   "outputs": [],
   "source": [
    "counter = 0\n",
    "\n",
    "with open('data/kittens.in') as file:\n",
    "    [V, E, R, C, X] = list(map(int, file.readline().split()))\n",
    "    \n",
    "    # sizes of individual videos\n",
    "    video_sizes = file.readline().split()\n",
    "    \n",
    "    # latency of serving a video request from the data center to this endpoint\n",
    "    ds_endp_latencies = []\n",
    "    \n",
    "    # cache servers connected to endpoints\n",
    "    connected_caches = []\n",
    "    \n",
    "    # latency of serving a video request from this cache server to this endpoint\n",
    "    endp_ch_latencies = []\n",
    "    \n",
    "    for _ in range(E):\n",
    "        line = file.readline().split()\n",
    "        ds_endp_latencies.append(line[0])\n",
    "        \n",
    "        K = int(line[1])\n",
    "        caches = []\n",
    "        this_endp_latencies = []\n",
    "        \n",
    "        for i in range(K):\n",
    "            line = file.readline().split()\n",
    "            caches.append(line[0])\n",
    "            this_endp_latencies.append(line[1])\n",
    "            \n",
    "        connected_caches.append(caches)\n",
    "        endp_ch_latencies.append(this_endp_latencies)"
   ]
  },
  {
   "cell_type": "code",
   "execution_count": 19,
   "metadata": {
    "collapsed": false
   },
   "outputs": [
    {
     "data": {
      "text/plain": [
       "392"
      ]
     },
     "execution_count": 19,
     "metadata": {},
     "output_type": "execute_result"
    }
   ],
   "source": []
  },
  {
   "cell_type": "code",
   "execution_count": null,
   "metadata": {
    "collapsed": true
   },
   "outputs": [],
   "source": []
  }
 ],
 "metadata": {
  "kernelspec": {
   "display_name": "Python 3",
   "language": "python",
   "name": "python3"
  },
  "language_info": {
   "codemirror_mode": {
    "name": "ipython",
    "version": 3
   },
   "file_extension": ".py",
   "mimetype": "text/x-python",
   "name": "python",
   "nbconvert_exporter": "python",
   "pygments_lexer": "ipython3",
   "version": "3.6.0"
  }
 },
 "nbformat": 4,
 "nbformat_minor": 2
}
