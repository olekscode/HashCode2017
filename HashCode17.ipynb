{
 "cells": [
  {
   "cell_type": "code",
   "execution_count": 1,
   "metadata": {
    "collapsed": true
   },
   "outputs": [],
   "source": [
    "%matplotlib inline\n",
    "import numpy as np\n",
    "import pandas as pd\n",
    "import matplotlib.pyplot as plt\n",
    "import seaborn as sns"
   ]
  },
  {
   "cell_type": "code",
   "execution_count": 20,
   "metadata": {
    "collapsed": false
   },
   "outputs": [],
   "source": [
    "class Video(object):\n",
    "    def __init__(self, video_id, endpoint, num_req):\n",
    "        self.id = video_id\n",
    "        self.endpoint = endpoint\n",
    "        self.num_req"
   ]
  },
  {
   "cell_type": "code",
   "execution_count": 21,
   "metadata": {
    "collapsed": false
   },
   "outputs": [
    {
     "ename": "AttributeError",
     "evalue": "'Video' object has no attribute 'num_req'",
     "output_type": "error",
     "traceback": [
      "\u001b[0;31m---------------------------------------------------------------------------\u001b[0m",
      "\u001b[0;31mAttributeError\u001b[0m                            Traceback (most recent call last)",
      "\u001b[0;32m<ipython-input-21-99138e593e45>\u001b[0m in \u001b[0;36m<module>\u001b[0;34m()\u001b[0m\n\u001b[1;32m     36\u001b[0m     \u001b[0;32mfor\u001b[0m \u001b[0m_\u001b[0m \u001b[0;32min\u001b[0m \u001b[0mrange\u001b[0m\u001b[0;34m(\u001b[0m\u001b[0mR\u001b[0m\u001b[0;34m)\u001b[0m\u001b[0;34m:\u001b[0m\u001b[0;34m\u001b[0m\u001b[0m\n\u001b[1;32m     37\u001b[0m         \u001b[0;34m[\u001b[0m\u001b[0mRv\u001b[0m\u001b[0;34m,\u001b[0m \u001b[0mRe\u001b[0m\u001b[0;34m,\u001b[0m \u001b[0mRn\u001b[0m\u001b[0;34m]\u001b[0m \u001b[0;34m=\u001b[0m \u001b[0mlist\u001b[0m\u001b[0;34m(\u001b[0m\u001b[0mmap\u001b[0m\u001b[0;34m(\u001b[0m\u001b[0mint\u001b[0m\u001b[0;34m,\u001b[0m \u001b[0mfile\u001b[0m\u001b[0;34m.\u001b[0m\u001b[0mreadline\u001b[0m\u001b[0;34m(\u001b[0m\u001b[0;34m)\u001b[0m\u001b[0;34m.\u001b[0m\u001b[0msplit\u001b[0m\u001b[0;34m(\u001b[0m\u001b[0;34m)\u001b[0m\u001b[0;34m)\u001b[0m\u001b[0;34m)\u001b[0m\u001b[0;34m\u001b[0m\u001b[0m\n\u001b[0;32m---> 38\u001b[0;31m         \u001b[0mrequests\u001b[0m\u001b[0;34m.\u001b[0m\u001b[0mappend\u001b[0m\u001b[0;34m(\u001b[0m\u001b[0mVideo\u001b[0m\u001b[0;34m(\u001b[0m\u001b[0mRv\u001b[0m\u001b[0;34m,\u001b[0m \u001b[0mRe\u001b[0m\u001b[0;34m,\u001b[0m \u001b[0mRn\u001b[0m\u001b[0;34m)\u001b[0m\u001b[0;34m)\u001b[0m\u001b[0;34m\u001b[0m\u001b[0m\n\u001b[0m",
      "\u001b[0;32m<ipython-input-20-1a610a7c58aa>\u001b[0m in \u001b[0;36m__init__\u001b[0;34m(self, video_id, endpoint, num_req)\u001b[0m\n\u001b[1;32m      3\u001b[0m         \u001b[0mself\u001b[0m\u001b[0;34m.\u001b[0m\u001b[0mid\u001b[0m \u001b[0;34m=\u001b[0m \u001b[0mvideo_id\u001b[0m\u001b[0;34m\u001b[0m\u001b[0m\n\u001b[1;32m      4\u001b[0m         \u001b[0mself\u001b[0m\u001b[0;34m.\u001b[0m\u001b[0mendpoint\u001b[0m \u001b[0;34m=\u001b[0m \u001b[0mendpoint\u001b[0m\u001b[0;34m\u001b[0m\u001b[0m\n\u001b[0;32m----> 5\u001b[0;31m         \u001b[0mself\u001b[0m\u001b[0;34m.\u001b[0m\u001b[0mnum_req\u001b[0m\u001b[0;34m\u001b[0m\u001b[0m\n\u001b[0m",
      "\u001b[0;31mAttributeError\u001b[0m: 'Video' object has no attribute 'num_req'"
     ]
    }
   ],
   "source": [
    "counter = 0\n",
    "\n",
    "with open('data/kittens.in') as file:\n",
    "    [V, E, R, C, X] = list(map(int, file.readline().split()))\n",
    "    \n",
    "    # sizes of individual videos\n",
    "    video_sizes = file.readline().split()\n",
    "    \n",
    "    # latency of serving a video request from the data center to this endpoint\n",
    "    ds_endp_latencies = []\n",
    "    \n",
    "    # cache servers connected to endpoints\n",
    "    connected_caches = []\n",
    "    \n",
    "    # latency of serving a video request from this cache server to this endpoint\n",
    "    endp_ch_latencies = []\n",
    "    \n",
    "    requests = []\n",
    "    \n",
    "    for _ in range(E):\n",
    "        line = file.readline().split()\n",
    "        ds_endp_latencies.append(line[0])\n",
    "        \n",
    "        K = int(line[1])\n",
    "        caches = []\n",
    "        this_endp_latencies = []\n",
    "        \n",
    "        for i in range(K):\n",
    "            line = file.readline().split()\n",
    "            caches.append(line[0])\n",
    "            this_endp_latencies.append(line[1])\n",
    "            \n",
    "        connected_caches.append(caches)\n",
    "        endp_ch_latencies.append(this_endp_latencies)\n",
    "        \n",
    "    for _ in range(R):\n",
    "        [Rv, Re, Rn] = list(map(int, file.readline().split()))\n",
    "        requests.append(Video(Rv, Re, Rn))"
   ]
  },
  {
   "cell_type": "code",
   "execution_count": null,
   "metadata": {
    "collapsed": true
   },
   "outputs": [],
   "source": []
  }
 ],
 "metadata": {
  "kernelspec": {
   "display_name": "Python 3",
   "language": "python",
   "name": "python3"
  },
  "language_info": {
   "codemirror_mode": {
    "name": "ipython",
    "version": 3
   },
   "file_extension": ".py",
   "mimetype": "text/x-python",
   "name": "python",
   "nbconvert_exporter": "python",
   "pygments_lexer": "ipython3",
   "version": "3.6.0"
  }
 },
 "nbformat": 4,
 "nbformat_minor": 2
}
