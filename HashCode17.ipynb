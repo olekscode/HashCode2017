{
 "cells": [
  {
   "cell_type": "code",
   "execution_count": 1,
   "metadata": {
    "collapsed": true
   },
   "outputs": [],
   "source": [
    "%matplotlib inline\n",
    "import numpy as np\n",
    "import pandas as pd\n",
    "import matplotlib.pyplot as plt\n",
    "import seaborn as sns"
   ]
  },
  {
   "cell_type": "code",
   "execution_count": 22,
   "metadata": {
    "collapsed": false
   },
   "outputs": [],
   "source": [
    "class Video(object):\n",
    "    def __init__(self, video_id, endpoint, num_req):\n",
    "        self.id = video_id\n",
    "        self.endpoint = endpoint\n",
    "        self.num_req = num_req"
   ]
  },
  {
   "cell_type": "code",
   "execution_count": 36,
   "metadata": {
    "collapsed": true
   },
   "outputs": [],
   "source": [
    "counter = 0\n",
    "\n",
    "with open('data/example.in') as file:\n",
    "    [V, E, R, C, X] = list(map(int, file.readline().split()))\n",
    "    \n",
    "    # sizes of individual videos\n",
    "    video_sizes = list(map(int, file.readline().split()))\n",
    "    \n",
    "    # latency of serving a video request from the data center to this endpoint\n",
    "    ds_endp_latencies = []\n",
    "    \n",
    "    # cache servers connected to endpoints\n",
    "    connected_caches = []\n",
    "    \n",
    "    # latency of serving a video request from this cache server to this endpoint\n",
    "    endp_ch_latencies = []\n",
    "    \n",
    "    requests = []\n",
    "    \n",
    "    for _ in range(E):\n",
    "        line = file.readline().split()\n",
    "        ds_endp_latencies.append(int(line[0]))\n",
    "        \n",
    "        K = int(line[1])\n",
    "        caches = []\n",
    "        this_endp_latencies = []\n",
    "        \n",
    "        for i in range(K):\n",
    "            line = file.readline().split()\n",
    "            caches.append(int(line[0]))\n",
    "            this_endp_latencies.append(int(line[1]))\n",
    "            \n",
    "        connected_caches.append(caches)\n",
    "        endp_ch_latencies.append(this_endp_latencies)\n",
    "        \n",
    "    for _ in range(R):\n",
    "        [Rv, Re, Rn] = list(map(int, file.readline().split()))\n",
    "        requests.append(Video(Rv, Re, Rn))"
   ]
  },
  {
   "cell_type": "code",
   "execution_count": 39,
   "metadata": {
    "collapsed": false
   },
   "outputs": [
    {
     "data": {
      "text/plain": [
       "[[0, 2, 1], []]"
      ]
     },
     "execution_count": 39,
     "metadata": {},
     "output_type": "execute_result"
    }
   ],
   "source": [
    "connected_caches"
   ]
  },
  {
   "cell_type": "code",
   "execution_count": null,
   "metadata": {
    "collapsed": true
   },
   "outputs": [],
   "source": []
  }
 ],
 "metadata": {
  "kernelspec": {
   "display_name": "Python 3",
   "language": "python",
   "name": "python3"
  },
  "language_info": {
   "codemirror_mode": {
    "name": "ipython",
    "version": 3
   },
   "file_extension": ".py",
   "mimetype": "text/x-python",
   "name": "python",
   "nbconvert_exporter": "python",
   "pygments_lexer": "ipython3",
   "version": "3.6.0"
  }
 },
 "nbformat": 4,
 "nbformat_minor": 2
}
