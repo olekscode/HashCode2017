{
 "cells": [
  {
   "cell_type": "code",
   "execution_count": 1,
   "metadata": {
    "collapsed": true
   },
   "outputs": [],
   "source": [
    "%matplotlib inline\n",
    "import copy\n",
    "import numpy as np\n",
    "import pandas as pd\n",
    "import matplotlib.pyplot as plt\n",
    "import seaborn as sns"
   ]
  },
  {
   "cell_type": "code",
   "execution_count": 2,
   "metadata": {
    "collapsed": false
   },
   "outputs": [],
   "source": [
    "class Request(object):\n",
    "    def __init__(self, video_id, endpoint, num):\n",
    "        self.video_id = video_id\n",
    "        self.endpoint = endpoint\n",
    "        self.num = num"
   ]
  },
  {
   "cell_type": "code",
   "execution_count": 3,
   "metadata": {
    "collapsed": false
   },
   "outputs": [],
   "source": [
    "with open('data/kittens.in') as file:\n",
    "    [V, E, R, C, X] = list(map(int, file.readline().split()))\n",
    "    \n",
    "    # sizes of individual videos\n",
    "    video_sizes = list(map(int, file.readline().split()))\n",
    "    \n",
    "    # latency of serving a video request from the data center to this endpoint\n",
    "    ds_endp_latencies = []\n",
    "    \n",
    "    # cache servers connected to endpoints\n",
    "    connected_caches = []\n",
    "    \n",
    "    # latency of serving a video request from this cache server to this endpoint\n",
    "    ch_endp_latencies = []\n",
    "    \n",
    "    requests = []\n",
    "    \n",
    "    for _ in range(E):\n",
    "        line = file.readline().split()\n",
    "        ds_endp_latencies.append(int(line[0]))\n",
    "        \n",
    "        K = int(line[1])\n",
    "        caches = []\n",
    "        this_endp_latencies = []\n",
    "        \n",
    "        for i in range(K):\n",
    "            line = file.readline().split()\n",
    "            caches.append(int(line[0]))\n",
    "            this_endp_latencies.append(int(line[1]))\n",
    "            \n",
    "        connected_caches.append(caches)\n",
    "        ch_endp_latencies.append(this_endp_latencies)\n",
    "        \n",
    "    for _ in range(R):\n",
    "        [Rv, Re, Rn] = list(map(int, file.readline().split()))\n",
    "        requests.append(Request(Rv, Re, Rn))"
   ]
  },
  {
   "cell_type": "code",
   "execution_count": 4,
   "metadata": {
    "collapsed": false
   },
   "outputs": [],
   "source": [
    "def get_ch_endp_latency(endpoint_id, cache_id):\n",
    "    for i in range(len(connected_caches[endpoint_id])):\n",
    "        if (connected_caches[endpoint_id][i] == cache_id):\n",
    "            return ch_endp_latencies[endpoint_id][i]\n",
    "    raise Exception(\"This endpoint is not connected to the specified cache\")"
   ]
  },
  {
   "cell_type": "code",
   "execution_count": 5,
   "metadata": {
    "collapsed": false
   },
   "outputs": [],
   "source": [
    "def reqt_single(request, cache_id):\n",
    "    return request.num * get_ch_endp_latency(request.endpoint, cache_id)"
   ]
  },
  {
   "cell_type": "code",
   "execution_count": 6,
   "metadata": {
    "collapsed": false
   },
   "outputs": [],
   "source": [
    "def reqt(state):\n",
    "    cost = 0\n",
    "    \n",
    "    for i in range(len(state)):\n",
    "        req = requests[i]\n",
    "        min_latency = ds_endp_latencies[req.endpoint] * req.num\n",
    "\n",
    "        for c in state[i]:\n",
    "            lat = reqt_single(req, c)\n",
    "            if (lat < min_latency):\n",
    "                min_latency = lat\n",
    "                \n",
    "        cost += min_latency\n",
    "    \n",
    "    return cost"
   ]
  },
  {
   "cell_type": "code",
   "execution_count": 7,
   "metadata": {
    "collapsed": false
   },
   "outputs": [
    {
     "data": {
      "text/plain": [
       "42584363"
      ]
     },
     "execution_count": 7,
     "metadata": {},
     "output_type": "execute_result"
    }
   ],
   "source": [
    "reqt([[], [], [], []])"
   ]
  },
  {
   "cell_type": "code",
   "execution_count": 14,
   "metadata": {
    "collapsed": false
   },
   "outputs": [
    {
     "name": "stdout",
     "output_type": "stream",
     "text": [
      "[4, 6, 7, 8, 9, 10, 11, 12, 14, 15, 16, 21, 22, 23, 24, 26, 27, 28, 29, 30, 31, 32, 36, 38, 39, 45, 46, 47, 48, 49, 50, 51, 53, 56, 58, 60, 61, 62, 65, 66, 67, 70, 72, 78, 79, 80, 81, 84, 88, 90, 92, 94, 95, 100, 101, 104, 105, 106, 107, 109, 111, 112, 116, 118, 120, 121, 122, 123, 125, 126, 127, 130, 131, 132, 133, 134, 136, 137, 139, 143, 147, 148, 152, 155, 156, 158, 159, 160, 162, 164, 165, 167, 169, 170, 171, 173, 174, 177, 179, 183, 184, 186, 187, 189, 192, 193, 195, 196, 197, 198, 200, 201, 203, 204, 209, 210, 211, 214, 216, 219, 220, 222, 223, 225, 226, 227, 228, 229, 233, 234, 238, 240, 242, 243, 244, 245, 246, 247, 249, 250, 259, 261, 262, 263, 264, 265, 267, 269, 271, 272, 275, 277, 281, 282, 285, 287, 291, 293, 294, 295, 297, 299, 303, 305, 308, 315, 316, 317, 320, 321, 322, 324, 325, 327, 329, 331, 332, 334, 335, 336, 341, 342, 343, 344, 346, 347, 348, 350, 353, 355, 357, 359, 361, 364, 368, 369, 374, 375, 379, 381, 383, 386, 389, 390, 391, 394, 395, 397, 399, 401, 402, 404, 406, 408, 409, 410, 412, 413, 415, 417, 419, 421, 425, 427, 428, 429, 432, 433, 434, 437, 438, 440, 447, 449, 450, 452, 454, 457, 462, 465, 466, 467, 470, 472, 473, 476, 478, 484, 485, 486, 487, 490, 491, 493, 494, 496, 499]\n",
      "Hello: 4\n",
      "Hello: 6\n",
      "Hello: 7\n",
      "Hello: 8\n",
      "Hello: 9\n",
      "Hello: 10\n",
      "Hello: 11\n",
      "Hello: 12\n",
      "Hello: 14\n",
      "Hello: 15\n",
      "Hello: 16\n",
      "Hello: 21\n",
      "Hello: 22\n",
      "Hello: 23\n",
      "Hello: 24\n",
      "Hello: 26\n",
      "Hello: 27\n",
      "Hello: 28\n",
      "Hello: 29\n",
      "Hello: 30\n",
      "Hello: 31\n",
      "Hello: 32\n",
      "Hello: 36\n",
      "Hello: 38\n",
      "Hello: 39\n",
      "Hello: 45\n",
      "Hello: 46\n",
      "Hello: 47\n",
      "Hello: 48\n",
      "Hello: 49\n",
      "Hello: 50\n",
      "Hello: 51\n",
      "Hello: 53\n",
      "Hello: 56\n",
      "Hello: 58\n",
      "Hello: 60\n"
     ]
    },
    {
     "ename": "KeyboardInterrupt",
     "evalue": "",
     "output_type": "error",
     "traceback": [
      "\u001b[0;31m---------------------------------------------------------------------------\u001b[0m",
      "\u001b[0;31mKeyboardInterrupt\u001b[0m                         Traceback (most recent call last)",
      "\u001b[0;32m<ipython-input-14-d47a5619b493>\u001b[0m in \u001b[0;36m<module>\u001b[0;34m()\u001b[0m\n\u001b[1;32m     15\u001b[0m         \u001b[0;32mfor\u001b[0m \u001b[0mc\u001b[0m \u001b[0;32min\u001b[0m \u001b[0mcaches\u001b[0m\u001b[0;34m:\u001b[0m\u001b[0;34m\u001b[0m\u001b[0m\n\u001b[1;32m     16\u001b[0m             \u001b[0mprint\u001b[0m\u001b[0;34m(\u001b[0m\u001b[0;34m\"Hello: {}\"\u001b[0m\u001b[0;34m.\u001b[0m\u001b[0mformat\u001b[0m\u001b[0;34m(\u001b[0m\u001b[0mc\u001b[0m\u001b[0;34m)\u001b[0m\u001b[0;34m)\u001b[0m\u001b[0;34m\u001b[0m\u001b[0m\n\u001b[0;32m---> 17\u001b[0;31m             \u001b[0mstate\u001b[0m \u001b[0;34m=\u001b[0m \u001b[0mcopy\u001b[0m\u001b[0;34m.\u001b[0m\u001b[0mdeepcopy\u001b[0m\u001b[0;34m(\u001b[0m\u001b[0mcurr_state\u001b[0m\u001b[0;34m)\u001b[0m\u001b[0;34m\u001b[0m\u001b[0m\n\u001b[0m\u001b[1;32m     18\u001b[0m \u001b[0;34m\u001b[0m\u001b[0m\n\u001b[1;32m     19\u001b[0m             \u001b[0;32mif\u001b[0m \u001b[0mc\u001b[0m \u001b[0;32min\u001b[0m \u001b[0mstate\u001b[0m\u001b[0;34m[\u001b[0m\u001b[0mi\u001b[0m\u001b[0;34m]\u001b[0m\u001b[0;34m:\u001b[0m\u001b[0;34m\u001b[0m\u001b[0m\n",
      "\u001b[0;32m/home/bragi/anaconda3/lib/python3.6/copy.py\u001b[0m in \u001b[0;36mdeepcopy\u001b[0;34m(x, memo, _nil)\u001b[0m\n\u001b[1;32m    148\u001b[0m     \u001b[0mcopier\u001b[0m \u001b[0;34m=\u001b[0m \u001b[0m_deepcopy_dispatch\u001b[0m\u001b[0;34m.\u001b[0m\u001b[0mget\u001b[0m\u001b[0;34m(\u001b[0m\u001b[0mcls\u001b[0m\u001b[0;34m)\u001b[0m\u001b[0;34m\u001b[0m\u001b[0m\n\u001b[1;32m    149\u001b[0m     \u001b[0;32mif\u001b[0m \u001b[0mcopier\u001b[0m\u001b[0;34m:\u001b[0m\u001b[0;34m\u001b[0m\u001b[0m\n\u001b[0;32m--> 150\u001b[0;31m         \u001b[0my\u001b[0m \u001b[0;34m=\u001b[0m \u001b[0mcopier\u001b[0m\u001b[0;34m(\u001b[0m\u001b[0mx\u001b[0m\u001b[0;34m,\u001b[0m \u001b[0mmemo\u001b[0m\u001b[0;34m)\u001b[0m\u001b[0;34m\u001b[0m\u001b[0m\n\u001b[0m\u001b[1;32m    151\u001b[0m     \u001b[0;32melse\u001b[0m\u001b[0;34m:\u001b[0m\u001b[0;34m\u001b[0m\u001b[0m\n\u001b[1;32m    152\u001b[0m         \u001b[0;32mtry\u001b[0m\u001b[0;34m:\u001b[0m\u001b[0;34m\u001b[0m\u001b[0m\n",
      "\u001b[0;32m/home/bragi/anaconda3/lib/python3.6/copy.py\u001b[0m in \u001b[0;36m_deepcopy_list\u001b[0;34m(x, memo, deepcopy)\u001b[0m\n\u001b[1;32m    213\u001b[0m     \u001b[0mappend\u001b[0m \u001b[0;34m=\u001b[0m \u001b[0my\u001b[0m\u001b[0;34m.\u001b[0m\u001b[0mappend\u001b[0m\u001b[0;34m\u001b[0m\u001b[0m\n\u001b[1;32m    214\u001b[0m     \u001b[0;32mfor\u001b[0m \u001b[0ma\u001b[0m \u001b[0;32min\u001b[0m \u001b[0mx\u001b[0m\u001b[0;34m:\u001b[0m\u001b[0;34m\u001b[0m\u001b[0m\n\u001b[0;32m--> 215\u001b[0;31m         \u001b[0mappend\u001b[0m\u001b[0;34m(\u001b[0m\u001b[0mdeepcopy\u001b[0m\u001b[0;34m(\u001b[0m\u001b[0ma\u001b[0m\u001b[0;34m,\u001b[0m \u001b[0mmemo\u001b[0m\u001b[0;34m)\u001b[0m\u001b[0;34m)\u001b[0m\u001b[0;34m\u001b[0m\u001b[0m\n\u001b[0m\u001b[1;32m    216\u001b[0m     \u001b[0;32mreturn\u001b[0m \u001b[0my\u001b[0m\u001b[0;34m\u001b[0m\u001b[0m\n\u001b[1;32m    217\u001b[0m \u001b[0md\u001b[0m\u001b[0;34m[\u001b[0m\u001b[0mlist\u001b[0m\u001b[0;34m]\u001b[0m \u001b[0;34m=\u001b[0m \u001b[0m_deepcopy_list\u001b[0m\u001b[0;34m\u001b[0m\u001b[0m\n",
      "\u001b[0;32m/home/bragi/anaconda3/lib/python3.6/copy.py\u001b[0m in \u001b[0;36mdeepcopy\u001b[0;34m(x, memo, _nil)\u001b[0m\n\u001b[1;32m    139\u001b[0m         \u001b[0mmemo\u001b[0m \u001b[0;34m=\u001b[0m \u001b[0;34m{\u001b[0m\u001b[0;34m}\u001b[0m\u001b[0;34m\u001b[0m\u001b[0m\n\u001b[1;32m    140\u001b[0m \u001b[0;34m\u001b[0m\u001b[0m\n\u001b[0;32m--> 141\u001b[0;31m     \u001b[0md\u001b[0m \u001b[0;34m=\u001b[0m \u001b[0mid\u001b[0m\u001b[0;34m(\u001b[0m\u001b[0mx\u001b[0m\u001b[0;34m)\u001b[0m\u001b[0;34m\u001b[0m\u001b[0m\n\u001b[0m\u001b[1;32m    142\u001b[0m     \u001b[0my\u001b[0m \u001b[0;34m=\u001b[0m \u001b[0mmemo\u001b[0m\u001b[0;34m.\u001b[0m\u001b[0mget\u001b[0m\u001b[0;34m(\u001b[0m\u001b[0md\u001b[0m\u001b[0;34m,\u001b[0m \u001b[0m_nil\u001b[0m\u001b[0;34m)\u001b[0m\u001b[0;34m\u001b[0m\u001b[0m\n\u001b[1;32m    143\u001b[0m     \u001b[0;32mif\u001b[0m \u001b[0my\u001b[0m \u001b[0;32mis\u001b[0m \u001b[0;32mnot\u001b[0m \u001b[0m_nil\u001b[0m\u001b[0;34m:\u001b[0m\u001b[0;34m\u001b[0m\u001b[0m\n",
      "\u001b[0;31mKeyboardInterrupt\u001b[0m: "
     ]
    }
   ],
   "source": [
    "curr_state = [[] for _ in range(len(requests))]\n",
    "\n",
    "min_cost = reqt(curr_state)\n",
    "prev_cost = min_cost + 1\n",
    "\n",
    "counter = 0\n",
    "\n",
    "while min_cost < prev_cost or counter == 1:\n",
    "    prev_cost = min_cost\n",
    "    \n",
    "    for i in range(len(requests)):\n",
    "        caches = connected_caches[requests[i].endpoint]\n",
    "        print(caches)\n",
    "\n",
    "        for c in caches:\n",
    "            print(\"Hello: {}\".format(c))\n",
    "            state = copy.deepcopy(curr_state)\n",
    "\n",
    "            if c in state[i]:\n",
    "                continue\n",
    "\n",
    "            state[i].append(c)\n",
    "            cost = reqt(state)\n",
    "\n",
    "            if cost < min_cost:\n",
    "                min_cost = cost\n",
    "                curr_state = copy.deepcopy(state)\n",
    "                \n",
    "    print(min_cost)\n",
    "    counter += 1\n",
    "    \n",
    "print(curr_state)"
   ]
  },
  {
   "cell_type": "code",
   "execution_count": 152,
   "metadata": {
    "collapsed": false
   },
   "outputs": [
    {
     "data": {
      "text/plain": [
       "[[], [], [], [1]]"
      ]
     },
     "execution_count": 152,
     "metadata": {},
     "output_type": "execute_result"
    }
   ],
   "source": [
    "state"
   ]
  },
  {
   "cell_type": "code",
   "execution_count": 153,
   "metadata": {
    "collapsed": false
   },
   "outputs": [],
   "source": [
    "a = copy.deepcopy(state)"
   ]
  },
  {
   "cell_type": "code",
   "execution_count": 154,
   "metadata": {
    "collapsed": false
   },
   "outputs": [
    {
     "data": {
      "text/plain": [
       "[[], [], [], [1]]"
      ]
     },
     "execution_count": 154,
     "metadata": {},
     "output_type": "execute_result"
    }
   ],
   "source": [
    "a"
   ]
  },
  {
   "cell_type": "code",
   "execution_count": 155,
   "metadata": {
    "collapsed": true
   },
   "outputs": [],
   "source": [
    "a[1].append(\"fuck\")"
   ]
  },
  {
   "cell_type": "code",
   "execution_count": 156,
   "metadata": {
    "collapsed": false
   },
   "outputs": [
    {
     "data": {
      "text/plain": [
       "[[], [], [], [1]]"
      ]
     },
     "execution_count": 156,
     "metadata": {},
     "output_type": "execute_result"
    }
   ],
   "source": [
    "state"
   ]
  },
  {
   "cell_type": "code",
   "execution_count": 16,
   "metadata": {
    "collapsed": false
   },
   "outputs": [
    {
     "data": {
      "text/plain": [
       "10000"
      ]
     },
     "execution_count": 16,
     "metadata": {},
     "output_type": "execute_result"
    }
   ],
   "source": [
    "len(video_sizes)"
   ]
  },
  {
   "cell_type": "code",
   "execution_count": null,
   "metadata": {
    "collapsed": true
   },
   "outputs": [],
   "source": []
  }
 ],
 "metadata": {
  "kernelspec": {
   "display_name": "Python 3",
   "language": "python",
   "name": "python3"
  },
  "language_info": {
   "codemirror_mode": {
    "name": "ipython",
    "version": 3
   },
   "file_extension": ".py",
   "mimetype": "text/x-python",
   "name": "python",
   "nbconvert_exporter": "python",
   "pygments_lexer": "ipython3",
   "version": "3.6.0"
  }
 },
 "nbformat": 4,
 "nbformat_minor": 2
}
